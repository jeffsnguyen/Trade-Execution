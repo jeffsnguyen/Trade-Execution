{
 "cells": [
  {
   "cell_type": "markdown",
   "metadata": {},
   "source": [
    "# Preliminary Internship Research"
   ]
  },
  {
   "cell_type": "markdown",
   "metadata": {},
   "source": [
    "## Mark out aspect Approach:  \n",
    "### Definition:  \n",
    "Mark out is essentially x amount of time after the trade occur. This is used to study post-trade aversion and understand competitive analysis compared to other exchanges.  \n",
    "\n",
    "## Concentration Analysis:  \n",
    "Understand what is the opportunity cost if you were a market participant and have to pick a venue. Look at it from an investor's perspective: if you are making a decision to choose an exchange, how do you quantify that decision?  \n",
    "\n",
    "Might be helpful: Reading paper in adverse selection.  \n",
    "\n",
    "## Odd lot theory:  \n",
    "Look at data of stocks trading off exchange that is outperforming the market. Retail has increasingly becoming more savvy so the environment is changing.  \n",
    "\n",
    "Look for reasons why retail would like to go off-exchange (non-display liquidity) and on-exchange (displayed liquidity).  \n",
    "\n",
    "**IMPORTANT**. \n",
    "- Think purely as an investor: what do you most care about understanding that exchanges have an obligation to give best execution. Note that in papers, perspective would come from instituitons.  \n",
    "- Understanding why people are trading off-exchange and understanding that current solution is only applicable to algo people sending orders all day.  \n",
    "- Get familiar with data: Use FINRA data 2019 onward ATS and non ATS\n",
    "- Study trends on volume to see what feature heavily"
   ]
  },
  {
   "cell_type": "code",
   "execution_count": null,
   "metadata": {},
   "outputs": [],
   "source": []
  }
 ],
 "metadata": {
  "kernelspec": {
   "display_name": "Python 3",
   "language": "python",
   "name": "python3"
  },
  "language_info": {
   "codemirror_mode": {
    "name": "ipython",
    "version": 3
   },
   "file_extension": ".py",
   "mimetype": "text/x-python",
   "name": "python",
   "nbconvert_exporter": "python",
   "pygments_lexer": "ipython3",
   "version": "3.8.8"
  }
 },
 "nbformat": 4,
 "nbformat_minor": 4
}
